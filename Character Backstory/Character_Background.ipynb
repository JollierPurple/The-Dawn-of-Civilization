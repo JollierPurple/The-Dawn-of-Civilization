{
 "cells": [
  {
   "cell_type": "code",
   "execution_count": null,
   "metadata": {},
   "outputs": [],
   "source": [
    "import time\n",
    "\n",
    "def wait(duration):\n",
    "    time.sleep(duration)\n",
    "\n",
    "username = input(\"What is your username?\")\n",
    "begin_input = input(\"Would you like to begin your journey\", username + \"?(y/n)\")\n",
    "if begin_input == 'y':\n",
    "    start_backstory()\n",
    "else begin_input == 'n' :\n",
    "    \n",
    "    \n",
    "print(username, \"was a war veteran who fought for his country...\")\n",
    "print(\"To protect his village he had to fight many strong foes...\")\n",
    "print(\"After facing the final boss for the first time in order to defend his village...\")\n",
    "print(username, \"fails and is presumed dead, his village enslaved...\")\n",
    "print(username, \"wakes up with no memory of who he was and soon realizes in surprise, that he his skills from muscle memory clearly embedded in him from years of experience.\")\n",
    " \n",
    "\n",
    "#Note: To make code cleaner, think about putting these in file as seperate lines. Then in here, call each line seperately with index numbers. Then add what you want to them. \n",
    "\n"
   ]
  },
  {
   "cell_type": "code",
   "execution_count": 11,
   "metadata": {},
   "outputs": [
    {
     "name": "stdout",
     "output_type": "stream",
     "text": [
      "Tacobell is a war veteran, fighting for his country...\n",
      "He has a unique skill set and varying abilities...\n",
      "To protect his village he must fight many strong foes...\n",
      "After facing the final boss for the first time in order to defend his village...\n",
      "He fails and is presumed dead, his village enslaved...\n",
      "He wakes up with no memory of who he was and soon realizes that, surprisingly, he has skills from muscle memory clearly embedded in him from years of experience.\n",
      "\n",
      " \n"
     ]
    }
   ],
   "source": [
    "def character_background (): \n",
    "    filename = 'character_backround.txt'\n",
    "    with open(filename, 'r') as background:\n",
    "        background_text = background.read()\n",
    "        print(username, background_text)\n",
    "\n",
    "character_background()"
   ]
  },
  {
   "cell_type": "code",
   "execution_count": 28,
   "metadata": {},
   "outputs": [
    {
     "ename": "SyntaxError",
     "evalue": "invalid syntax (<ipython-input-28-c42b0c436550>, line 1)",
     "output_type": "error",
     "traceback": [
      "\u001b[0;36m  File \u001b[0;32m\"<ipython-input-28-c42b0c436550>\"\u001b[0;36m, line \u001b[0;32m1\u001b[0m\n\u001b[0;31m    if user_option == 'sleep'\u001b[0m\n\u001b[0m                             ^\u001b[0m\n\u001b[0;31mSyntaxError\u001b[0m\u001b[0;31m:\u001b[0m invalid syntax\n"
     ]
    }
   ],
   "source": [
    "     \n",
    "    if user_option == 'sleep' #This will be used in the user interface, if the user types sleep, \n",
    "        character_dreams(user_option) #They will call Dream function\n",
    "def character_dreams (user_option): #character dream function\n",
    "    count = 0 #keep running count of how many times they've sleep, note: user-interface will only show option to sleep after facing final boss. \n",
    "    while count < 10 : #While \n",
    "        count + 1 \n",
    "        if count == 1 :\n",
    "            class_skill_fireball = 'Granted' #This is in\n",
    "        elif count == 2 :\n",
    "            \n",
    "        elif count == 3 :\n",
    "        \n",
    "        elif count == 4 :\n",
    "        \n",
    "        elif count == 5 :\n",
    "        \n",
    "        elif count == 6 : \n",
    "        \n",
    "        elif count == 7 :\n",
    "        \n",
    "        elif count == 8 :\n",
    "        \n",
    "        elif count == 9 :\n",
    "        \n",
    "        elif count == 10 :\n",
    "        \n",
    "        else : \n",
    "            print(\"You can no longer sleep\")\n",
    "            #Call the user_interface function. \n",
    "            \n",
    "#Note, if they beat the game without sleeping a lot, the y wont be able to \n",
    "        \n",
    "        \n",
    "    \n",
    "    "
   ]
  },
  {
   "cell_type": "code",
   "execution_count": 32,
   "metadata": {},
   "outputs": [
    {
     "data": {
      "text/plain": [
       "['_STRUCT_TM_ITEMS',\n",
       " '__doc__',\n",
       " '__loader__',\n",
       " '__name__',\n",
       " '__package__',\n",
       " '__spec__',\n",
       " 'altzone',\n",
       " 'asctime',\n",
       " 'clock',\n",
       " 'ctime',\n",
       " 'daylight',\n",
       " 'get_clock_info',\n",
       " 'gmtime',\n",
       " 'localtime',\n",
       " 'mktime',\n",
       " 'monotonic',\n",
       " 'monotonic_ns',\n",
       " 'perf_counter',\n",
       " 'perf_counter_ns',\n",
       " 'process_time',\n",
       " 'process_time_ns',\n",
       " 'sleep',\n",
       " 'strftime',\n",
       " 'strptime',\n",
       " 'struct_time',\n",
       " 'time',\n",
       " 'time_ns',\n",
       " 'timezone',\n",
       " 'tzname',\n",
       " 'tzset']"
      ]
     },
     "execution_count": 32,
     "metadata": {},
     "output_type": "execute_result"
    }
   ],
   "source": [
    "import time\n",
    "\n",
    "dir(time)"
   ]
  },
  {
   "cell_type": "code",
   "execution_count": 40,
   "metadata": {},
   "outputs": [
    {
     "name": "stdout",
     "output_type": "stream",
     "text": [
      "Hello there.\n",
      "This program waited, 5  seconds before saying this.\n"
     ]
    }
   ],
   "source": [
    "import time\n",
    "\n",
    "t = 5\n",
    "\n",
    "print(\"Hello there.\")\n",
    "time.sleep(t)\n",
    "print(\"This program waited,\", t, \"seconds before saying this.\")\n"
   ]
  },
  {
   "cell_type": "code",
   "execution_count": 45,
   "metadata": {},
   "outputs": [
    {
     "name": "stdout",
     "output_type": "stream",
     "text": [
      "Hello\n",
      "It worked.\n"
     ]
    }
   ],
   "source": [
    "\n",
    "user_input = input(\"Hello\")\n",
    "if user_input == '' or ' ': \n",
    "    print(\"It worked.\")\n",
    "else :\n",
    "    print(\"Try again sucker!\")"
   ]
  },
  {
   "cell_type": "code",
   "execution_count": null,
   "metadata": {},
   "outputs": [],
   "source": []
  }
 ],
 "metadata": {
  "kernelspec": {
   "display_name": "Python 3",
   "language": "python",
   "name": "python3"
  },
  "language_info": {
   "codemirror_mode": {
    "name": "ipython",
    "version": 3
   },
   "file_extension": ".py",
   "mimetype": "text/x-python",
   "name": "python",
   "nbconvert_exporter": "python",
   "pygments_lexer": "ipython3",
   "version": "3.7.3"
  }
 },
 "nbformat": 4,
 "nbformat_minor": 2
}
