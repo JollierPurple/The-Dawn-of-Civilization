{
 "cells": [
  {
   "cell_type": "code",
   "execution_count": null,
   "metadata": {},
   "outputs": [],
   "source": [
    "#Knight Abilities\n",
    "slash_knight = {'pp':15, 'damage':20}\n",
    "lunge_knight = {'pp':10, 'damage':25}\n",
    "ironguardian_knight = {'pp':2, 'damage':20}\n",
    "pivotdash_knight = {'pp':10, 'damage':35}\n",
    "true_edge_knight = {'pp':1, 'damage':90}\n",
    "\n",
    "#Archer Abilities\n",
    "arrow_archer = {'pp':15, 'damage':20}\n",
    "precisionhit_archer = {'pp':10, 'damage':25}\n",
    "focusbreath_archer = {'pp':2, 'heal':25}\n",
    "acidarrow_pp = {'pp':10, 'damage':35}\n",
    "stormarrow_archer = {'pp':1, 'damage':90}\n",
    "\n",
    "#Wizard Abilities      \n",
    "fireblast_wizard = {'pp':10, 'damage':25}\n",
    "lightningstrike_wizard = {'pp':10, 'damage':35}\n",
    "heal_wizard = {'pp':2, 'heal':40}\n",
    "element_wave_wizard = {'pp':10, 'damage':45}\n",
    "eruption_seal_wizard = {'pp':1, 'damage':90}\n",
    "\n"
   ]
  }
 ],
 "metadata": {
  "kernelspec": {
   "display_name": "Python 3",
   "language": "python",
   "name": "python3"
  },
  "language_info": {
   "codemirror_mode": {
    "name": "ipython",
    "version": 3
   },
   "file_extension": ".py",
   "mimetype": "text/x-python",
   "name": "python",
   "nbconvert_exporter": "python",
   "pygments_lexer": "ipython3",
   "version": "3.7.3"
  }
 },
 "nbformat": 4,
 "nbformat_minor": 2
}
