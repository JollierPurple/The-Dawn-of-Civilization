{
 "cells": [
  {
   "cell_type": "code",
   "execution_count": 2,
   "metadata": {},
   "outputs": [
    {
     "name": "stdout",
     "output_type": "stream",
     "text": [
      "{'CharacterType': 'Archer', 'health': 100, 'armor': 2000, 'speed': 100, 'attack': 100}\n"
     ]
    }
   ],
   "source": [
    "while True:\n",
    "    if user_stats['health'] > 100:\n",
    "        user_stats['health'] = 100\n",
    "        break\n",
    "    else:\n",
    "        continue\n",
    "        \n",
    "while True :\n",
    "    if user_stats['speed'] > 100:\n",
    "        user_stats['speed'] = 100\n",
    "        break\n",
    "    else:\n",
    "        continue\n",
    "        \n",
    "while True :\n",
    "    if user_stats['attack'] > 100:\n",
    "        user_stats['attack'] = 100\n",
    "        break\n",
    "    else :\n",
    "        continue"
   ]
  },
  {
   "cell_type": "code",
   "execution_count": null,
   "metadata": {},
   "outputs": [],
   "source": []
  }
 ],
 "metadata": {
  "kernelspec": {
   "display_name": "Python 3",
   "language": "python",
   "name": "python3"
  },
  "language_info": {
   "codemirror_mode": {
    "name": "ipython",
    "version": 3
   },
   "file_extension": ".py",
   "mimetype": "text/x-python",
   "name": "python",
   "nbconvert_exporter": "python",
   "pygments_lexer": "ipython3",
   "version": "3.7.3"
  }
 },
 "nbformat": 4,
 "nbformat_minor": 2
}
