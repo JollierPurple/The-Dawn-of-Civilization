{
 "cells": [
  {
   "cell_type": "code",
   "execution_count": 2,
   "metadata": {},
   "outputs": [
    {
     "name": "stdout",
     "output_type": "stream",
     "text": [
      "Please enter a username, or type 'random' to receive a random name: kdflhdkfl\n",
      "Your username is now: kdflhdkfl\n",
      "Please enter 'y' or 'n' to confirm your username.y\n",
      "Congratulations! You are now kdflhdkfl!\n"
     ]
    }
   ],
   "source": [
    "import random\n",
    "import time\n",
    "\n",
    "def wait(duration):\n",
    "    time.sleep(duration)\n",
    "\n",
    "namecheck = []\n",
    "def introduction():\n",
    "    filename='Random_Name_Data.txt'\n",
    "    with open (filename,'r') as namelist:\n",
    "        for name in namelist.readlines():\n",
    "            namecheck.append(name)\n",
    "            \n",
    "    user_input = input(\"Please enter a username, or type 'random' to receive a random name: \")\n",
    "    if user_input == 'random' :\n",
    "        username = random.choice(namecheck)\n",
    "        print(\"Your randomly generated username is %s.\" % (username))\n",
    "        confirm_input = input(\"Please enter 'y' or 'n' to confirm your username.\")\n",
    "        if confirm_input == 'y' : \n",
    "            print(\"Congratulations! You are now %s!\" % (username))\n",
    "            #character_background()\n",
    "        elif confirm_input == 'n' : \n",
    "            print(\"Restarting...\\n\")\n",
    "            wait(2)\n",
    "            introduction()\n",
    "    else:\n",
    "        username = user_input\n",
    "        print(\"Your username is now:\", username)\n",
    "        confirm_input = input(\"Please enter 'y' or 'n' to confirm your username.\")\n",
    "        if confirm_input == 'y' : \n",
    "            print(\"Congratulations! You are now %s!\" % (username))\n",
    "            #character_background()\n",
    "        elif confirm_input == 'n' : \n",
    "            print(\"Restarting...\\n\")\n",
    "            wait(2)\n",
    "            introduction()\n",
    "\n",
    "introduction()"
   ]
  },
  {
   "cell_type": "code",
   "execution_count": null,
   "metadata": {},
   "outputs": [],
   "source": []
  }
 ],
 "metadata": {
  "kernelspec": {
   "display_name": "Python 3",
   "language": "python",
   "name": "python3"
  },
  "language_info": {
   "codemirror_mode": {
    "name": "ipython",
    "version": 3
   },
   "file_extension": ".py",
   "mimetype": "text/x-python",
   "name": "python",
   "nbconvert_exporter": "python",
   "pygments_lexer": "ipython3",
   "version": "3.7.3"
  }
 },
 "nbformat": 4,
 "nbformat_minor": 2
}
