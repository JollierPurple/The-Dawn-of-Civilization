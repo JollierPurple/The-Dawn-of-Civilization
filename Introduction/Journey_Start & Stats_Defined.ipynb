{
 "cells": [
  {
   "cell_type": "code",
   "execution_count": 4,
   "metadata": {},
   "outputs": [
    {
     "name": "stdout",
     "output_type": "stream",
     "text": [
      "Would you like to start your journey? yes\n",
      "You wake up in the middle of nowhere, and see two goblins approaching you.\n",
      "Panickledy looking around you identify three items laying on the ground.\n",
      "A bow, sword, and staff(you sense something mystical about it.\n",
      "Instictively, you grab the...\n",
      "\n",
      "(Sword, Bow, or Magic Staff) You Choose:sword\n",
      "You are now a knight!\n",
      "Here are your stats!\n"
     ]
    },
    {
     "ename": "AttributeError",
     "evalue": "'NoneType' object has no attribute 'items'",
     "output_type": "error",
     "traceback": [
      "\u001b[0;31m---------------------------------------------------------------------------\u001b[0m",
      "\u001b[0;31mAttributeError\u001b[0m                            Traceback (most recent call last)",
      "\u001b[0;32m<ipython-input-4-19f10e0d2de7>\u001b[0m in \u001b[0;36m<module>\u001b[0;34m\u001b[0m\n\u001b[1;32m     74\u001b[0m     \u001b[0;31m#Show stats\u001b[0m\u001b[0;34m\u001b[0m\u001b[0;34m\u001b[0m\u001b[0;34m\u001b[0m\u001b[0m\n\u001b[1;32m     75\u001b[0m \u001b[0;34m\u001b[0m\u001b[0m\n\u001b[0;32m---> 76\u001b[0;31m \u001b[0mtransition_background_journey\u001b[0m\u001b[0;34m(\u001b[0m\u001b[0;34m)\u001b[0m \u001b[0;31m#This is where it all starts.\u001b[0m\u001b[0;34m\u001b[0m\u001b[0;34m\u001b[0m\u001b[0m\n\u001b[0m\u001b[1;32m     77\u001b[0m \u001b[0;34m\u001b[0m\u001b[0m\n\u001b[1;32m     78\u001b[0m \u001b[0;34m\u001b[0m\u001b[0m\n",
      "\u001b[0;32m<ipython-input-4-19f10e0d2de7>\u001b[0m in \u001b[0;36mtransition_background_journey\u001b[0;34m()\u001b[0m\n\u001b[1;32m     15\u001b[0m     \u001b[0mjourney_confirmation\u001b[0m \u001b[0;34m=\u001b[0m \u001b[0mjourney_confirmation\u001b[0m\u001b[0;34m.\u001b[0m\u001b[0mlower\u001b[0m\u001b[0;34m(\u001b[0m\u001b[0;34m)\u001b[0m\u001b[0;34m\u001b[0m\u001b[0;34m\u001b[0m\u001b[0m\n\u001b[1;32m     16\u001b[0m     \u001b[0;32mif\u001b[0m \u001b[0mjourney_confirmation\u001b[0m\u001b[0;34m==\u001b[0m\u001b[0;34m\"yes\"\u001b[0m\u001b[0;34m:\u001b[0m\u001b[0;34m\u001b[0m\u001b[0;34m\u001b[0m\u001b[0m\n\u001b[0;32m---> 17\u001b[0;31m         \u001b[0mjourney_start\u001b[0m\u001b[0;34m(\u001b[0m\u001b[0;34m)\u001b[0m\u001b[0;34m\u001b[0m\u001b[0;34m\u001b[0m\u001b[0m\n\u001b[0m\u001b[1;32m     18\u001b[0m     \u001b[0;32melse\u001b[0m\u001b[0;34m:\u001b[0m\u001b[0;34m\u001b[0m\u001b[0;34m\u001b[0m\u001b[0m\n\u001b[1;32m     19\u001b[0m         \u001b[0mprint\u001b[0m\u001b[0;34m(\u001b[0m\u001b[0;34m\"THEN WHY ARE YOU PLAYING THIS GAME?!\"\u001b[0m\u001b[0;34m)\u001b[0m\u001b[0;34m\u001b[0m\u001b[0;34m\u001b[0m\u001b[0m\n",
      "\u001b[0;32m<ipython-input-4-19f10e0d2de7>\u001b[0m in \u001b[0;36mjourney_start\u001b[0;34m()\u001b[0m\n\u001b[1;32m     42\u001b[0m     \u001b[0mchoice\u001b[0m \u001b[0;34m=\u001b[0m \u001b[0minput\u001b[0m\u001b[0;34m(\u001b[0m\u001b[0;34m\"(Sword, Bow, or Magic Staff) You Choose:\"\u001b[0m \u001b[0;34m)\u001b[0m\u001b[0;34m\u001b[0m\u001b[0;34m\u001b[0m\u001b[0m\n\u001b[1;32m     43\u001b[0m     \u001b[0mchoice\u001b[0m \u001b[0;34m=\u001b[0m \u001b[0mchoice\u001b[0m\u001b[0;34m.\u001b[0m\u001b[0mlower\u001b[0m\u001b[0;34m(\u001b[0m\u001b[0;34m)\u001b[0m\u001b[0;34m\u001b[0m\u001b[0;34m\u001b[0m\u001b[0m\n\u001b[0;32m---> 44\u001b[0;31m     \u001b[0mclass_choice\u001b[0m\u001b[0;34m(\u001b[0m\u001b[0mchoice\u001b[0m\u001b[0;34m)\u001b[0m\u001b[0;34m\u001b[0m\u001b[0;34m\u001b[0m\u001b[0m\n\u001b[0m\u001b[1;32m     45\u001b[0m \u001b[0;34m\u001b[0m\u001b[0m\n\u001b[1;32m     46\u001b[0m \u001b[0;32mdef\u001b[0m \u001b[0mclass_choice\u001b[0m\u001b[0;34m(\u001b[0m\u001b[0mchoice\u001b[0m\u001b[0;34m)\u001b[0m\u001b[0;34m:\u001b[0m\u001b[0;34m\u001b[0m\u001b[0;34m\u001b[0m\u001b[0m\n",
      "\u001b[0;32m<ipython-input-4-19f10e0d2de7>\u001b[0m in \u001b[0;36mclass_choice\u001b[0;34m(choice)\u001b[0m\n\u001b[1;32m     50\u001b[0m         \u001b[0mprint\u001b[0m\u001b[0;34m(\u001b[0m\u001b[0;34m\"You are now a knight!\"\u001b[0m\u001b[0;34m)\u001b[0m\u001b[0;34m\u001b[0m\u001b[0;34m\u001b[0m\u001b[0m\n\u001b[1;32m     51\u001b[0m         \u001b[0mprint\u001b[0m\u001b[0;34m(\u001b[0m\u001b[0;34m\"Here are your stats!\"\u001b[0m\u001b[0;34m)\u001b[0m\u001b[0;34m\u001b[0m\u001b[0;34m\u001b[0m\u001b[0m\n\u001b[0;32m---> 52\u001b[0;31m         \u001b[0mdisplay_user_stats\u001b[0m\u001b[0;34m(\u001b[0m\u001b[0muser_stats_return\u001b[0m\u001b[0;34m)\u001b[0m\u001b[0;34m\u001b[0m\u001b[0;34m\u001b[0m\u001b[0m\n\u001b[0m\u001b[1;32m     53\u001b[0m         \u001b[0mtransition_classelection_firstbattle\u001b[0m\u001b[0;34m(\u001b[0m\u001b[0;34m)\u001b[0m\u001b[0;34m\u001b[0m\u001b[0;34m\u001b[0m\u001b[0m\n\u001b[1;32m     54\u001b[0m     \u001b[0;32melif\u001b[0m \u001b[0mchoice\u001b[0m\u001b[0;34m==\u001b[0m\u001b[0;34m'bow'\u001b[0m\u001b[0;34m:\u001b[0m\u001b[0;34m\u001b[0m\u001b[0;34m\u001b[0m\u001b[0m\n",
      "\u001b[0;32m<ipython-input-4-19f10e0d2de7>\u001b[0m in \u001b[0;36mdisplay_user_stats\u001b[0;34m(user_stats)\u001b[0m\n\u001b[1;32m     32\u001b[0m \u001b[0;34m\u001b[0m\u001b[0m\n\u001b[1;32m     33\u001b[0m \u001b[0;32mdef\u001b[0m \u001b[0mdisplay_user_stats\u001b[0m\u001b[0;34m(\u001b[0m\u001b[0muser_stats\u001b[0m\u001b[0;34m)\u001b[0m\u001b[0;34m:\u001b[0m\u001b[0;34m\u001b[0m\u001b[0;34m\u001b[0m\u001b[0m\n\u001b[0;32m---> 34\u001b[0;31m     \u001b[0;32mfor\u001b[0m \u001b[0mkeys\u001b[0m\u001b[0;34m,\u001b[0m \u001b[0mvalues\u001b[0m \u001b[0;32min\u001b[0m \u001b[0muser_stats\u001b[0m\u001b[0;34m.\u001b[0m\u001b[0mitems\u001b[0m\u001b[0;34m(\u001b[0m\u001b[0;34m)\u001b[0m \u001b[0;34m:\u001b[0m\u001b[0;34m\u001b[0m\u001b[0;34m\u001b[0m\u001b[0m\n\u001b[0m\u001b[1;32m     35\u001b[0m         \u001b[0mprint\u001b[0m\u001b[0;34m(\u001b[0m\u001b[0mkeys\u001b[0m \u001b[0;34m+\u001b[0m\u001b[0;34m\":\"\u001b[0m\u001b[0;34m,\u001b[0m \u001b[0mvalues\u001b[0m\u001b[0;34m)\u001b[0m\u001b[0;34m\u001b[0m\u001b[0;34m\u001b[0m\u001b[0m\n\u001b[1;32m     36\u001b[0m \u001b[0;34m\u001b[0m\u001b[0m\n",
      "\u001b[0;31mAttributeError\u001b[0m: 'NoneType' object has no attribute 'items'"
     ]
    }
   ],
   "source": [
    "knight_stats = {'CharacterType':'Knight','health':75,'armor':70,'speed':35,'attack':20}\n",
    "archer_stats = {'CharacterType': 'Archer','health':70,'armor':50,'speed':55,'attack':35}\n",
    "wizard_stats = {'CharacterType':'Wizard','health':65,'armor':50,'speed':25,'attck':45}\n",
    "goblin_stats = {'CharacterType':'Goblin','health':45,'armor':10,'speed':35,'attack':25}\n",
    "darkelf_stats = {'CharacterType':'Darkelves','health':55,'armor':25,'speed':40,'attack':35}\n",
    "vampire_stats={'CharacterType':'Vampire','health':70,'armor':30,'speed':40,'attack':35}\n",
    "werewolf_stats={'CharacterType':'Werewolf','health':80,'armor':40,'speed':45,'attack':45}\n",
    "dragon_stats={'CharacterType':'Dragon','health':100,'armor':85,'speed':50,'attack':40}\n",
    "user_stats= {}\n",
    "user_inventory = {}\n",
    "class_variable = ''\n",
    "\n",
    "def transition_background_journey():\n",
    "    journey_confirmation=input('Would you like to start your journey? ')\n",
    "    journey_confirmation = journey_confirmation.lower()\n",
    "    if journey_confirmation==\"yes\":\n",
    "        journey_start()\n",
    "    else:\n",
    "        print(\"THEN WHY ARE YOU PLAYING THIS GAME?!\")\n",
    "        transition_background_journey()\n",
    "\n",
    "def user_stats(class_variable) :\n",
    "    if class_variable == 'knight':\n",
    "        user_stats = knight_stats\n",
    "    elif class_variable == 'wizard':\n",
    "        user_stats = wizard_stats\n",
    "    elif class_variable == 'archer':\n",
    "        user_stats = archer_stats\n",
    "    else :\n",
    "        print(\"Error, check user_stats function.\")\n",
    "        return user_stats\n",
    "\n",
    "def display_user_stats(user_stats):\n",
    "    for keys, values in user_stats.items() :\n",
    "        print(keys +\":\", values)\n",
    "\n",
    "def journey_start():\n",
    "    print(\"You wake up in the middle of nowhere, and see two goblins approaching you.\")\n",
    "    print(\"Panickledy looking around you identify three items laying on the ground.\")\n",
    "    print(\"A bow, sword, and staff(you sense something mystical about it.\")\n",
    "    print(\"Instictively, you grab the...\\n\")\n",
    "    choice = input(\"(Sword, Bow, or Magic Staff) You Choose:\" )\n",
    "    choice = choice.lower()\n",
    "    class_choice(choice)\n",
    "\n",
    "def class_choice(choice):\n",
    "    if choice =='sword':\n",
    "        class_variable = 'knight'\n",
    "        user_stats_return = user_stats(class_variable)\n",
    "        print(\"You are now a knight!\")\n",
    "        print(\"Here are your stats!\")\n",
    "        display_user_stats(user_stats_return)\n",
    "        transition_classelection_firstbattle()\n",
    "    elif choice=='bow':\n",
    "        class_variable = 'archer'\n",
    "        user_stats_return = user_stats(class_variable)\n",
    "        print(\"You are now an archer!\")\n",
    "        print(\"Here are your stats!\")\n",
    "        display_user_stats(user_stats_return)\n",
    "        transition_classelection_firstbattle()\n",
    "    elif choice=='magic staff':\n",
    "        class_variable = 'wizard'\n",
    "        user_stats_return = user_stats(class_variable)\n",
    "        print(\"You are now a wizard!\")\n",
    "        print(\"Here are your stats!\")\n",
    "        display_user_stats(user_stats_return)\n",
    "        transition_classelection_firstbattle()\n",
    "    else :\n",
    "        choice = input(\"Please choose a weapon. 'sword', 'bow', or 'magic staff'.\")\n",
    "        choice = choice.lower()\n",
    "        class_choice(choice)\n",
    "\n",
    "#User_Interface() This will call the user_interface,\n",
    "    #Show stats \n",
    "\n",
    "transition_background_journey() #This is where it all starts. \n",
    "\n",
    "\n"
   ]
  },
  {
   "cell_type": "code",
   "execution_count": null,
   "metadata": {},
   "outputs": [],
   "source": [
    "def transition_classelection_firstbattle():\n",
    "    "
   ]
  }
 ],
 "metadata": {
  "kernelspec": {
   "display_name": "Python 3",
   "language": "python",
   "name": "python3"
  },
  "language_info": {
   "codemirror_mode": {
    "name": "ipython",
    "version": 3
   },
   "file_extension": ".py",
   "mimetype": "text/x-python",
   "name": "python",
   "nbconvert_exporter": "python",
   "pygments_lexer": "ipython3",
   "version": "3.7.3"
  }
 },
 "nbformat": 4,
 "nbformat_minor": 2
}
